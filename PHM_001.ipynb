{
 "cells": [
  {
   "cell_type": "code",
   "execution_count": 17,
   "metadata": {
    "collapsed": false
   },
   "outputs": [],
   "source": [
    "import numpy as np\n",
    "import pandas as pd"
   ]
  },
  {
   "cell_type": "code",
   "execution_count": 234,
   "metadata": {
    "collapsed": true
   },
   "outputs": [],
   "source": [
    "#z-score normalization function\n",
    "def znorm(ts):\n",
    "    ts = (ts-np.mean(ts))/np.std(ts)\n",
    "    return ts"
   ]
  },
  {
   "cell_type": "code",
   "execution_count": 235,
   "metadata": {
    "collapsed": true
   },
   "outputs": [],
   "source": [
    "#sliding window function\n",
    "def sliding_win(ts,w_size):\n",
    "    window = []\n",
    "    for i in range(0,len(ts)-w_size+1):\n",
    "        window_v = ts[i:i+w_size]\n",
    "        window.append(window_v)\n",
    "    return window"
   ]
  },
  {
   "cell_type": "code",
   "execution_count": 236,
   "metadata": {
    "collapsed": false
   },
   "outputs": [],
   "source": [
    "train = pd.read_csv(\"C-MAPSS/trainset/train_FD003.csv\")\n",
    "train.columns=['unit_num']+['cycle_time']+['opera_'+str(i) for i in xrange(1,4)]+[\"sensor\" + str(i) for i in xrange(1,22)]"
   ]
  },
  {
   "cell_type": "code",
   "execution_count": 237,
   "metadata": {
    "collapsed": false
   },
   "outputs": [
    {
     "data": {
      "text/html": [
       "<div>\n",
       "<table border=\"1\" class=\"dataframe\">\n",
       "  <thead>\n",
       "    <tr style=\"text-align: right;\">\n",
       "      <th></th>\n",
       "      <th>unit_num</th>\n",
       "      <th>cycle_time</th>\n",
       "      <th>opera_1</th>\n",
       "      <th>opera_2</th>\n",
       "      <th>opera_3</th>\n",
       "      <th>sensor1</th>\n",
       "      <th>sensor2</th>\n",
       "      <th>sensor3</th>\n",
       "      <th>sensor4</th>\n",
       "      <th>sensor5</th>\n",
       "      <th>...</th>\n",
       "      <th>sensor12</th>\n",
       "      <th>sensor13</th>\n",
       "      <th>sensor14</th>\n",
       "      <th>sensor15</th>\n",
       "      <th>sensor16</th>\n",
       "      <th>sensor17</th>\n",
       "      <th>sensor18</th>\n",
       "      <th>sensor19</th>\n",
       "      <th>sensor20</th>\n",
       "      <th>sensor21</th>\n",
       "    </tr>\n",
       "  </thead>\n",
       "  <tbody>\n",
       "    <tr>\n",
       "      <th>0</th>\n",
       "      <td>1</td>\n",
       "      <td>1</td>\n",
       "      <td>-0.0005</td>\n",
       "      <td>0.0004</td>\n",
       "      <td>100</td>\n",
       "      <td>518.67</td>\n",
       "      <td>642.36</td>\n",
       "      <td>1583.23</td>\n",
       "      <td>1396.84</td>\n",
       "      <td>14.62</td>\n",
       "      <td>...</td>\n",
       "      <td>522.31</td>\n",
       "      <td>2388.01</td>\n",
       "      <td>8145.32</td>\n",
       "      <td>8.4246</td>\n",
       "      <td>0.03</td>\n",
       "      <td>391</td>\n",
       "      <td>2388</td>\n",
       "      <td>100</td>\n",
       "      <td>39.11</td>\n",
       "      <td>23.3537</td>\n",
       "    </tr>\n",
       "    <tr>\n",
       "      <th>1</th>\n",
       "      <td>1</td>\n",
       "      <td>2</td>\n",
       "      <td>0.0008</td>\n",
       "      <td>-0.0003</td>\n",
       "      <td>100</td>\n",
       "      <td>518.67</td>\n",
       "      <td>642.50</td>\n",
       "      <td>1584.69</td>\n",
       "      <td>1396.89</td>\n",
       "      <td>14.62</td>\n",
       "      <td>...</td>\n",
       "      <td>522.42</td>\n",
       "      <td>2388.03</td>\n",
       "      <td>8152.85</td>\n",
       "      <td>8.4403</td>\n",
       "      <td>0.03</td>\n",
       "      <td>392</td>\n",
       "      <td>2388</td>\n",
       "      <td>100</td>\n",
       "      <td>38.99</td>\n",
       "      <td>23.4491</td>\n",
       "    </tr>\n",
       "    <tr>\n",
       "      <th>2</th>\n",
       "      <td>1</td>\n",
       "      <td>3</td>\n",
       "      <td>-0.0014</td>\n",
       "      <td>-0.0002</td>\n",
       "      <td>100</td>\n",
       "      <td>518.67</td>\n",
       "      <td>642.18</td>\n",
       "      <td>1582.35</td>\n",
       "      <td>1405.61</td>\n",
       "      <td>14.62</td>\n",
       "      <td>...</td>\n",
       "      <td>522.03</td>\n",
       "      <td>2388.00</td>\n",
       "      <td>8150.17</td>\n",
       "      <td>8.3901</td>\n",
       "      <td>0.03</td>\n",
       "      <td>391</td>\n",
       "      <td>2388</td>\n",
       "      <td>100</td>\n",
       "      <td>38.85</td>\n",
       "      <td>23.3669</td>\n",
       "    </tr>\n",
       "    <tr>\n",
       "      <th>3</th>\n",
       "      <td>1</td>\n",
       "      <td>4</td>\n",
       "      <td>-0.0020</td>\n",
       "      <td>0.0001</td>\n",
       "      <td>100</td>\n",
       "      <td>518.67</td>\n",
       "      <td>642.92</td>\n",
       "      <td>1585.61</td>\n",
       "      <td>1392.27</td>\n",
       "      <td>14.62</td>\n",
       "      <td>...</td>\n",
       "      <td>522.49</td>\n",
       "      <td>2388.08</td>\n",
       "      <td>8146.56</td>\n",
       "      <td>8.3878</td>\n",
       "      <td>0.03</td>\n",
       "      <td>392</td>\n",
       "      <td>2388</td>\n",
       "      <td>100</td>\n",
       "      <td>38.96</td>\n",
       "      <td>23.2951</td>\n",
       "    </tr>\n",
       "    <tr>\n",
       "      <th>4</th>\n",
       "      <td>1</td>\n",
       "      <td>5</td>\n",
       "      <td>0.0016</td>\n",
       "      <td>0.0000</td>\n",
       "      <td>100</td>\n",
       "      <td>518.67</td>\n",
       "      <td>641.68</td>\n",
       "      <td>1588.63</td>\n",
       "      <td>1397.65</td>\n",
       "      <td>14.62</td>\n",
       "      <td>...</td>\n",
       "      <td>522.58</td>\n",
       "      <td>2388.03</td>\n",
       "      <td>8147.80</td>\n",
       "      <td>8.3869</td>\n",
       "      <td>0.03</td>\n",
       "      <td>392</td>\n",
       "      <td>2388</td>\n",
       "      <td>100</td>\n",
       "      <td>39.14</td>\n",
       "      <td>23.4583</td>\n",
       "    </tr>\n",
       "  </tbody>\n",
       "</table>\n",
       "<p>5 rows × 26 columns</p>\n",
       "</div>"
      ],
      "text/plain": [
       "   unit_num  cycle_time  opera_1  opera_2  opera_3  sensor1  sensor2  sensor3  \\\n",
       "0         1           1  -0.0005   0.0004      100   518.67   642.36  1583.23   \n",
       "1         1           2   0.0008  -0.0003      100   518.67   642.50  1584.69   \n",
       "2         1           3  -0.0014  -0.0002      100   518.67   642.18  1582.35   \n",
       "3         1           4  -0.0020   0.0001      100   518.67   642.92  1585.61   \n",
       "4         1           5   0.0016   0.0000      100   518.67   641.68  1588.63   \n",
       "\n",
       "   sensor4  sensor5    ...     sensor12  sensor13  sensor14  sensor15  \\\n",
       "0  1396.84    14.62    ...       522.31   2388.01   8145.32    8.4246   \n",
       "1  1396.89    14.62    ...       522.42   2388.03   8152.85    8.4403   \n",
       "2  1405.61    14.62    ...       522.03   2388.00   8150.17    8.3901   \n",
       "3  1392.27    14.62    ...       522.49   2388.08   8146.56    8.3878   \n",
       "4  1397.65    14.62    ...       522.58   2388.03   8147.80    8.3869   \n",
       "\n",
       "   sensor16  sensor17  sensor18  sensor19  sensor20  sensor21  \n",
       "0      0.03       391      2388       100     39.11   23.3537  \n",
       "1      0.03       392      2388       100     38.99   23.4491  \n",
       "2      0.03       391      2388       100     38.85   23.3669  \n",
       "3      0.03       392      2388       100     38.96   23.2951  \n",
       "4      0.03       392      2388       100     39.14   23.4583  \n",
       "\n",
       "[5 rows x 26 columns]"
      ]
     },
     "execution_count": 237,
     "metadata": {},
     "output_type": "execute_result"
    }
   ],
   "source": [
    "train.head()"
   ]
  },
  {
   "cell_type": "code",
   "execution_count": 370,
   "metadata": {
    "collapsed": false
   },
   "outputs": [],
   "source": [
    "#define simple health index\n",
    "def health_idx(df):\n",
    "    cycle = []\n",
    "    for i in list(set(df.values[:,0])):\n",
    "        cycle.append(range(1,len(df[df['unit_num']==i][[1]])+1))\n",
    "    #normlization 0-1 function\n",
    "    def norm(ts):\n",
    "        norm_ts = []\n",
    "        for i in range(0,len(ts)):\n",
    "            norm_ts.append(float(ts[i]-min(ts))/(max(ts)-min(ts)))\n",
    "        return norm_ts\n",
    "    for i in range(0,100):\n",
    "        cycle[i] = norm(cycle[i])[::-1]\n",
    "    return cycle"
   ]
  },
  {
   "cell_type": "code",
   "execution_count": 336,
   "metadata": {
    "collapsed": true
   },
   "outputs": [
    {
     "name": "stdout",
     "output_type": "stream",
     "text": [
      "0.0\n",
      "0.125\n",
      "0.25\n",
      "0.375\n",
      "0.5\n",
      "0.625\n",
      "0.75\n",
      "0.875\n",
      "1.0\n"
     ]
    }
   ],
   "source": [
    "for i in range(0,len(ts)):\n",
    "    float(ts[i]-min(ts))/(max(ts)-min(ts)))"
   ]
  },
  {
   "cell_type": "code",
   "execution_count": 335,
   "metadata": {
    "collapsed": false
   },
   "outputs": [
    {
     "data": {
      "text/plain": [
       "[0, 1, 2, 3, 4, 5, 6, 7, 8]"
      ]
     },
     "execution_count": 335,
     "metadata": {},
     "output_type": "execute_result"
    }
   ],
   "source": [
    "range(0,len(ts))"
   ]
  },
  {
   "cell_type": "code",
   "execution_count": 324,
   "metadata": {
    "collapsed": false
   },
   "outputs": [
    {
     "data": {
      "text/plain": [
       "0"
      ]
     },
     "execution_count": 324,
     "metadata": {},
     "output_type": "execute_result"
    }
   ],
   "source": [
    "3/8"
   ]
  },
  {
   "cell_type": "code",
   "execution_count": 326,
   "metadata": {
    "collapsed": true
   },
   "outputs": [],
   "source": [
    "float??"
   ]
  },
  {
   "cell_type": "code",
   "execution_count": null,
   "metadata": {
    "collapsed": true
   },
   "outputs": [],
   "source": []
  }
 ],
 "metadata": {
  "kernelspec": {
   "display_name": "Python 2",
   "language": "python",
   "name": "python2"
  },
  "language_info": {
   "codemirror_mode": {
    "name": "ipython",
    "version": 2
   },
   "file_extension": ".py",
   "mimetype": "text/x-python",
   "name": "python",
   "nbconvert_exporter": "python",
   "pygments_lexer": "ipython2",
   "version": "2.7.10"
  }
 },
 "nbformat": 4,
 "nbformat_minor": 0
}
